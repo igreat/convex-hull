{
 "cells": [
  {
   "cell_type": "markdown",
   "metadata": {},
   "source": [
    "# COMP0005 - GROUP COURSEWORK 2023-24\n",
    "# Gesture Recognition via Convex Hull "
   ]
  },
  {
   "cell_type": "markdown",
   "metadata": {},
   "source": [
    "Use the cell below for all python code needed to realise the **Jarvis march algorithm** (including auxiliary data structures and functions needed by this algorithm - if any). The `jarvismarch()` function itself should take as input parameter a list of 2D points (`inputSet`), and return the subset of such points (`outputSet`) that lie on the convex hull."
   ]
  },
  {
   "cell_type": "code",
   "execution_count": 1,
   "metadata": {},
   "outputs": [],
   "source": [
    "test_points = [\n",
    "    (30, 60),\n",
    "    (0, 30),\n",
    "    (50, 40),\n",
    "    (15, 25),\n",
    "    (70, 30),\n",
    "    (55, 20),\n",
    "    (50, 10),\n",
    "    (20, 0),\n",
    "]"
   ]
  },
  {
   "cell_type": "code",
   "execution_count": 2,
   "metadata": {},
   "outputs": [],
   "source": [
    "import math\n",
    "\n",
    "# Utility functions\n",
    "\n",
    "def is_counter_clockwise(p1: tuple[int, int], p2: tuple[int, int], p3: tuple[int, int]) -> bool:\n",
    "    # vector product to check if p3 is to the left of the line p1 -> p2\n",
    "    area = (p2[0] - p1[0]) * (p3[1] - p1[1]) - (p2[1] - p1[1]) * (p3[0] - p1[0])\n",
    "    return area > 0\n",
    "\n",
    "def get_min_y_index(input_set: list[tuple[int, int]]) -> int:\n",
    "    min_y = math.inf\n",
    "    min_y_index = 0\n",
    "    for i in range(len(input_set)):\n",
    "        if input_set[i][1] < min_y:\n",
    "            min_y = input_set[i][1]\n",
    "            min_y_index = i\n",
    "    return min_y_index\n",
    "\n",
    "def distance(p1: tuple[int, int], p2: tuple[int, int]) -> int:\n",
    "        return (p1[0] - p2[0])**2 + (p1[1] - p2[1])**2\n",
    "\n",
    "def sort_by_polar_angle(p0: tuple[int, int], input_set: list[tuple[int, int]]) -> list[tuple[int, int]]:\n",
    "    input_set.sort(key=lambda p: math.atan2(p[1] - p0[1], p[0] - p0[0]))\n",
    "    return input_set\n",
    "\n",
    "def leftmost_point(points):\n",
    "        # Return the point with the smallest x (and smallest y if necessary)\n",
    "        return min(points)"
   ]
  },
  {
   "cell_type": "code",
   "execution_count": 3,
   "metadata": {},
   "outputs": [],
   "source": [
    "def jarvis_march(input_set: list[tuple[int, int]]) -> list[tuple[int, int]]:\n",
    "    \"\"\"\n",
    "    Returns the list of points that lie on the convex hull (jarvis march algorithm)\n",
    "            Parameters:\n",
    "                    input_set (list): a list of 2D points\n",
    "\n",
    "            Returns:\n",
    "                    output_set (list): a list of 2D points\n",
    "    \"\"\"\n",
    "    # Check if there are at least 3 points\n",
    "    if len(input_set) < 3:\n",
    "        return input_set  # The convex hull is not defined for less than 3 points\n",
    "\n",
    "    # Start with the leftmost point\n",
    "    point_on_hull = leftmost_point(input_set)\n",
    "    P = []  # Resulting convex hull\n",
    "    i = 0\n",
    "\n",
    "    while True:\n",
    "        P.append(point_on_hull)\n",
    "        # Start with the first point as the endpoint of the segment from point_on_hull\n",
    "        endpoint = input_set[0]\n",
    "\n",
    "        for j in range(0, len(input_set)):\n",
    "            # Check against all other points\n",
    "            if endpoint == point_on_hull or is_counter_clockwise(P[i], endpoint, input_set[j]):\n",
    "                # Found a more counterclockwise point\n",
    "                endpoint = input_set[j]\n",
    "\n",
    "        i += 1  # Increment the index for the hull points list\n",
    "        point_on_hull = endpoint\n",
    "\n",
    "        # Check if we have wrapped around to the first point\n",
    "        if endpoint == P[0]:\n",
    "            break\n",
    "\n",
    "    return P"
   ]
  },
  {
   "cell_type": "markdown",
   "metadata": {},
   "source": [
    "Use the cell below for all python code needed to realise the **Graham scan** algorithm (including auxiliary data structures and functions needed by this algorithm - if any). The `grahamscan()` function itself should take as input parameter a list of 2D points (`inputSet`), and return the subset of such points that lie on the convex hull (`outputSet`)."
   ]
  },
  {
   "cell_type": "code",
   "execution_count": 4,
   "metadata": {},
   "outputs": [],
   "source": [
    "def graham_scan(input_set: list[tuple[int, int]]) -> list[tuple[int, int]]:\n",
    "    \"\"\"\n",
    "    Returns the list of points that lie on the convex hull (graham scan algorithm)\n",
    "            Parameters:\n",
    "                    input_set (list): a list of 2D points\n",
    "\n",
    "            Returns:\n",
    "                    output_set (list): a list of 2D points\n",
    "    \"\"\"\n",
    "    stack = []\n",
    "    min_y_index = get_min_y_index(input_set)\n",
    "    input_set[0], input_set[min_y_index] = input_set[min_y_index], input_set[0]\n",
    "    p0 = input_set[0]\n",
    "    sort_by_polar_angle(p0, input_set)\n",
    "    print(input_set)\n",
    "    stack.append(p0)\n",
    "    stack.append(input_set[1])\n",
    "    for i in range(2, len(input_set)):\n",
    "        while len(stack) > 1 and not is_counter_clockwise(stack[-2], stack[-1], input_set[i]):\n",
    "            stack.pop()\n",
    "        stack.append(input_set[i])\n",
    "    return stack"
   ]
  },
  {
   "cell_type": "code",
   "execution_count": 5,
   "metadata": {},
   "outputs": [],
   "source": [
    "import matplotlib.pyplot as plt\n",
    "\n",
    "def plot_points(input_set: list[tuple[int, int]], output_set: list[tuple[int, int]]) -> None:\n",
    "    x = [i[0] for i in input_set]\n",
    "    y = [i[1] for i in input_set]\n",
    "    plt.scatter(x, y)\n",
    "    x = [i[0] for i in output_set]\n",
    "    y = [i[1] for i in output_set]\n",
    "    # close the loop\n",
    "    x.append(output_set[0][0])\n",
    "    y.append(output_set[0][1])\n",
    "    plt.plot(x, y)\n",
    "    plt.show()"
   ]
  },
  {
   "cell_type": "code",
   "execution_count": 7,
   "metadata": {},
   "outputs": [
    {
     "data": {
      "image/png": "[encoded data removed]",
      "text/plain": [
       "<Figure size 640x480 with 1 Axes>"
      ]
     },
     "metadata": {},
     "output_type": "display_data"
    }
   ],
   "source": [
    "# test graham scan\n",
    "output_set = jarvis_march(test_points)\n",
    "plot_points(test_points, output_set)"
   ]
  },
  {
   "cell_type": "markdown",
   "metadata": {},
   "source": [
    "Use the cell below for all python code needed to realise the **Chen's** algorithm (including auxiliary data structures and functions needed by this algorithm - if any). The `chen()` function itself should take as input parameter a list of 2D points (`inputSet`), and return the subset of such points that lie on the convex hull (`outputSet`)."
   ]
  },
  {
   "cell_type": "code",
   "execution_count": 3,
   "metadata": {},
   "outputs": [],
   "source": [
    "def chen(input_set: list[tuple[int, int]]) -> list[tuple[int, int]]:\n",
    "    \"\"\"\n",
    "    Returns the list of points that lie on the convex hull (chen's algorithm)\n",
    "            Parameters:\n",
    "                    inputSet (list): a list of 2D points\n",
    "\n",
    "            Returns:\n",
    "                    outputSet (list): a list of 2D points\n",
    "    \"\"\"\n",
    "\n",
    "    # ADD YOUR CODE HERE\n",
    "    \n",
    "    return output_set"
   ]
  },
  {
   "cell_type": "markdown",
   "metadata": {},
   "source": [
    "Use the cell below to implement the **synthetic data generator** needed by your experimental framework (including any auxiliary data structures and functions you might need - be mindful of code readability and reusability)."
   ]
  },
  {
   "cell_type": "code",
   "execution_count": 4,
   "metadata": {},
   "outputs": [],
   "source": [
    "import random\n",
    "\n",
    "class TestDataGenerator():\n",
    "    \"\"\"\n",
    "    A class to represent a synthetic data generator.\n",
    "\n",
    "    ...\n",
    "\n",
    "    Attributes\n",
    "    ----------\n",
    "    \n",
    "    [to be defined as part of the coursework]\n",
    "\n",
    "    Methods\n",
    "    -------\n",
    "    \n",
    "    [to be defined as part of the coursework]\n",
    "\n",
    "    \"\"\"\n",
    "        \n",
    "    #ADD YOUR CODE HERE\n",
    "    \n",
    "    def __init__():\n",
    "        pass\n"
   ]
  },
  {
   "cell_type": "markdown",
   "metadata": {},
   "source": [
    "Use the cell below to implement the requested **experimental framework** API."
   ]
  },
  {
   "cell_type": "code",
   "execution_count": 5,
   "metadata": {},
   "outputs": [],
   "source": [
    "import timeit\n",
    "import matplotlib\n",
    "\n",
    "class ExperimentalFramework():\n",
    "    \"\"\"\n",
    "    A class to represent an experimental framework.\n",
    "\n",
    "    ...\n",
    "\n",
    "    Attributes\n",
    "    ----------\n",
    "    \n",
    "    [to be defined as part of the coursework]\n",
    "\n",
    "    Methods\n",
    "    -------\n",
    "    \n",
    "    [to be defined as part of the coursework]\n",
    "\n",
    "    \"\"\"\n",
    "        \n",
    "    #ADD YOUR CODE HERE\n",
    "    \n",
    "    def __init__():\n",
    "        pass"
   ]
  },
  {
   "cell_type": "markdown",
   "metadata": {},
   "source": [
    "Use the cell below to illustrate the python code you used to **fully evaluate** the three convex hull algortihms under considerations. The code below should illustrate, for example, how you made used of the **TestDataGenerator** class to generate test data of various size and properties; how you instatiated the **ExperimentalFramework** class to  evaluate each algorithm using such data, collect information about their execution time, plots results, etc. Any results you illustrate in the companion PDF report should have been generated using the code below."
   ]
  },
  {
   "cell_type": "code",
   "execution_count": 6,
   "metadata": {},
   "outputs": [],
   "source": [
    "# ADD YOUR TEST CODE HERE \n",
    "\n",
    "\n",
    "\n"
   ]
  }
 ],
 "metadata": {
  "kernelspec": {
   "display_name": "Python 3",
   "language": "python",
   "name": "python3"
  },
  "language_info": {
   "codemirror_mode": {
    "name": "ipython",
    "version": 3
   },
   "file_extension": ".py",
   "mimetype": "text/x-python",
   "name": "python",
   "nbconvert_exporter": "python",
   "pygments_lexer": "ipython3",
   "version": "3.11.1"
  }
 },
 "nbformat": 4,
 "nbformat_minor": 4
}
